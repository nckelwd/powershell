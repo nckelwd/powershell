{
 "metadata": {
  "language_info": {
   "codemirror_mode": {
    "name": "ipython",
    "version": 3
   },
   "file_extension": ".py",
   "mimetype": "text/x-python",
   "name": "python",
   "nbconvert_exporter": "python",
   "pygments_lexer": "ipython3",
   "version": 3
  },
  "orig_nbformat": 2
 },
 "nbformat": 4,
 "nbformat_minor": 2,
 "cells": [
  {
   "cell_type": "code",
   "execution_count": null,
   "metadata": {},
   "outputs": [],
   "source": [
    "Add a member to a group\n",
    "PS C:\\> Add-AzureADGroupMember -ObjectId \"\" -RefObjectId \"\"\n",
    "\n",
    "Add-AzureADGroupMember\n",
    "   -ObjectId <String>\n",
    "   -RefObjectId <String>\n",
    "   [-InformationAction <ActionPreference>]\n",
    "   [-InformationVariable <String>]\n",
    "   [<CommonParameters>]\n",
    "\n",
    "Gets a user.\n",
    "PS C:\\> Get-AzureADUser\n",
    "\n",
    "Connect a PowerShell session to a tenant\n",
    "PS C:\\> Connect-AzureAD -Confirm\n",
    "\n",
    "Connect a session using a variable\n",
    "PS C:\\> $Credential = Get-Credential\n",
    "PS C:\\> Connect-AzureAD -Credential $Credential\n"
   ]
  }
 ]
}